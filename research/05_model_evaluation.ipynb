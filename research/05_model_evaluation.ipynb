{
 "cells": [
  {
   "cell_type": "code",
   "execution_count": 1,
   "id": "cd1ac27d-17d7-47ef-80b6-44f55899b29e",
   "metadata": {},
   "outputs": [],
   "source": [
    "import os"
   ]
  },
  {
   "cell_type": "code",
   "execution_count": 2,
   "id": "7fdd3f01-65ad-4848-9a9b-a0ae2bde78d7",
   "metadata": {},
   "outputs": [],
   "source": [
    "os.chdir(\"../\")"
   ]
  },
  {
   "cell_type": "code",
   "execution_count": 3,
   "id": "5bf6d998-99d4-461c-a785-afb208589b53",
   "metadata": {},
   "outputs": [
    {
     "data": {
      "text/plain": [
       "'/home/lucky/Documents/projects/MyProject/smoke_detection'"
      ]
     },
     "execution_count": 3,
     "metadata": {},
     "output_type": "execute_result"
    }
   ],
   "source": [
    "pwd"
   ]
  },
  {
   "cell_type": "code",
   "execution_count": 4,
   "id": "a1f7ef23-e89b-4ca3-846e-37894616fedf",
   "metadata": {},
   "outputs": [
    {
     "name": "stderr",
     "output_type": "stream",
     "text": [
      "2023-12-30 23:51:15.106814: I external/local_tsl/tsl/cuda/cudart_stub.cc:31] Could not find cuda drivers on your machine, GPU will not be used.\n",
      "2023-12-30 23:51:15.141576: E external/local_xla/xla/stream_executor/cuda/cuda_dnn.cc:9261] Unable to register cuDNN factory: Attempting to register factory for plugin cuDNN when one has already been registered\n",
      "2023-12-30 23:51:15.141608: E external/local_xla/xla/stream_executor/cuda/cuda_fft.cc:607] Unable to register cuFFT factory: Attempting to register factory for plugin cuFFT when one has already been registered\n",
      "2023-12-30 23:51:15.142700: E external/local_xla/xla/stream_executor/cuda/cuda_blas.cc:1515] Unable to register cuBLAS factory: Attempting to register factory for plugin cuBLAS when one has already been registered\n",
      "2023-12-30 23:51:15.148229: I external/local_tsl/tsl/cuda/cudart_stub.cc:31] Could not find cuda drivers on your machine, GPU will not be used.\n",
      "2023-12-30 23:51:15.148940: I tensorflow/core/platform/cpu_feature_guard.cc:182] This TensorFlow binary is optimized to use available CPU instructions in performance-critical operations.\n",
      "To enable the following instructions: AVX2 FMA, in other operations, rebuild TensorFlow with the appropriate compiler flags.\n",
      "2023-12-30 23:51:15.867481: W tensorflow/compiler/tf2tensorrt/utils/py_utils.cc:38] TF-TRT Warning: Could not find TensorRT\n"
     ]
    }
   ],
   "source": [
    "import tensorflow as tf"
   ]
  },
  {
   "cell_type": "code",
   "execution_count": 5,
   "id": "480f2ce4-7016-4b00-8338-5de04f534095",
   "metadata": {},
   "outputs": [],
   "source": [
    "model = tf.keras.models.load_model(\"artifacts/training/trained_model.keras\")"
   ]
  },
  {
   "cell_type": "code",
   "execution_count": 6,
   "id": "d3f84e40-fbf6-457b-8da1-05aeaa5ecb75",
   "metadata": {},
   "outputs": [],
   "source": [
    "from dataclasses import dataclass\n",
    "from pathlib import Path\n",
    "\n",
    "\n",
    "@dataclass(frozen=True)\n",
    "class EvaluationConfig:\n",
    "    model_path: Path\n",
    "    test_path: Path\n",
    "    \n",
    "    img_size: list\n",
    "    epochs: int\n",
    "    batch_size: int\n",
    "    learning_rate: float"
   ]
  },
  {
   "cell_type": "code",
   "execution_count": 7,
   "id": "6ff91221-5b7c-4523-bd42-f54933e35b44",
   "metadata": {},
   "outputs": [],
   "source": [
    "from cnnClassifier.constants import *\n",
    "from cnnClassifier.utils.common import read_yaml, create_directories, save_json"
   ]
  },
  {
   "cell_type": "code",
   "execution_count": 13,
   "id": "08a77e80-b4b8-4069-97e8-8e242339b5dd",
   "metadata": {},
   "outputs": [],
   "source": [
    "\n",
    "class ConfigurationManager:\n",
    "    def __init__(\n",
    "        self, \n",
    "        config_filepath = CONFIG_FILE_PATH,\n",
    "        params_filepath = PARAMS_FILE_PATH):\n",
    "        self.config = read_yaml(config_filepath)\n",
    "        self.params = read_yaml(params_filepath)\n",
    "        create_directories([self.config.artifacts_root])\n",
    "\n",
    "    \n",
    "    def get_validation_config(self) -> EvaluationConfig:\n",
    "        config = self.config.evaluation\n",
    "        eval_config = EvaluationConfig(\n",
    "            model_path=config.model_path,\n",
    "            test_path=config.test_path,\n",
    "            img_size=self.params.IMAGE_SIZE,\n",
    "            epochs=self.params.epochs,\n",
    "            batch_size = self.params.BATCH_SIZE,\n",
    "            learning_rate=self.params.LEARNING_RATE\n",
    "        )\n",
    "        return eval_config"
   ]
  },
  {
   "cell_type": "code",
   "execution_count": 14,
   "id": "4d1b99ca-749f-4ae0-a8c8-89854cdae802",
   "metadata": {},
   "outputs": [
    {
     "name": "stdout",
     "output_type": "stream",
     "text": [
      "[2023-12-30 23:59:26,599: INFO: common: yaml file: config/config.yaml loaded successfully]\n",
      "[2023-12-30 23:59:26,602: INFO: common: yaml file: params.yaml loaded successfully]\n",
      "[2023-12-30 23:59:26,604: INFO: common: created directory at: artifacts]\n"
     ]
    },
    {
     "data": {
      "text/plain": [
       "EvaluationConfig(model_path='artifacts/training/trained_model.keras', test_path='artifacts/data_ingestion/smoke_data/Testing/Testing', img_size=BoxList([224, 224]), epochs=5, batch_size=32, learning_rate=0.001)"
      ]
     },
     "execution_count": 14,
     "metadata": {},
     "output_type": "execute_result"
    }
   ],
   "source": [
    "ConfigurationManager().get_validation_config()"
   ]
  },
  {
   "cell_type": "code",
   "execution_count": 17,
   "id": "cced3176-3f70-4f14-ba3e-96e101968be3",
   "metadata": {},
   "outputs": [],
   "source": [
    "import os\n",
    "import tensorflow as tf\n",
    "import keras\n",
    "import time\n",
    "from sklearn.model_selection import train_test_split\n",
    "from tensorflow.keras.preprocessing.image import ImageDataGenerator\n",
    "import numpy as np\n",
    "import pandas as pd"
   ]
  },
  {
   "cell_type": "code",
   "execution_count": 24,
   "id": "09d59b89-411f-4f74-a92e-3f4952512695",
   "metadata": {},
   "outputs": [],
   "source": [
    "class Evaluation:\n",
    "    def __init__(self, config: EvaluationConfig):\n",
    "        self.config = config\n",
    "        self.test_gen = None\n",
    "\n",
    "    @staticmethod\n",
    "    def extract_from_path(path)-> []:\n",
    "        full_path = []\n",
    "        for i in sorted(os.listdir(path)):\n",
    "            full_path.append(os.path.join(path, i))\n",
    "        return full_path\n",
    "\n",
    "    @staticmethod\n",
    "    def createDataFrame(image_paths):\n",
    "        labels = [path.split('/')[-1].split('_')[0] for path in image_paths]\n",
    "        df = pd.DataFrame({'path': image_paths, 'label': labels})\n",
    "        df['label_id'] = df['label'].apply(lambda x: 1 if x == 'smoking' else 0)\n",
    "        return df\n",
    "    \n",
    "    def imgPreProcessing(self, image, label):\n",
    "        img = tf.io.read_file(image)\n",
    "        img = tf.io.decode_jpeg(img, channels = 3)\n",
    "        img = tf.image.resize(img, size = (self.config.img_size))\n",
    "        return img, label\n",
    "    \n",
    "    def loadDataset(self, df:pd.DataFrame):\n",
    "        dataset = tf.data.Dataset.from_tensor_slices((df['path'], df['label_id']))\n",
    "        return (dataset\n",
    "                     .map(self.imgPreProcessing)\n",
    "                    .shuffle(self.config.batch_size * 20)\n",
    "                     .batch(self.config.batch_size))\n",
    "        \n",
    "    def _test_gen(self):\n",
    "        test_images = self.extract_from_path(self.config.test_path)\n",
    "        test_images_df = self.createDataFrame(test_images)\n",
    "        self.test_gen = self.loadDataset(test_images_df)\n",
    "        return self.test_gen\n",
    "        \n",
    "\n",
    "    \n",
    "    @staticmethod\n",
    "    def load_model(path: Path) -> tf.keras.Model:\n",
    "        return tf.keras.models.load_model(path)\n",
    "    \n",
    "\n",
    "    def evaluation(self):\n",
    "        model = self.load_model(self.config.model_path)\n",
    "        self._test_gen()\n",
    "        self.score = model.evaluate(self.test_gen)\n",
    "\n",
    "    \n",
    "    def save_score(self):\n",
    "        scores = {\"loss\": self.score[0], \"accuracy\": self.score[1]}\n",
    "        save_json(path=Path(\"scores.json\"), data=scores)\n"
   ]
  },
  {
   "cell_type": "code",
   "execution_count": 25,
   "id": "b72d78ad-ef51-4a37-8fec-b13fd51c4fe6",
   "metadata": {},
   "outputs": [
    {
     "name": "stdout",
     "output_type": "stream",
     "text": [
      "[2023-12-31 00:06:41,543: INFO: common: yaml file: config/config.yaml loaded successfully]\n",
      "[2023-12-31 00:06:41,546: INFO: common: yaml file: params.yaml loaded successfully]\n",
      "[2023-12-31 00:06:41,547: INFO: common: created directory at: artifacts]\n",
      "7/7 [==============================] - 6s 493ms/step - loss: 0.1236 - accuracy: 0.9509\n",
      "[2023-12-31 00:06:54,506: INFO: common: json file saved at: scores.json]\n"
     ]
    }
   ],
   "source": [
    "try:\n",
    "    config = ConfigurationManager()\n",
    "    val_config = config.get_validation_config()\n",
    "    evaluation = Evaluation(val_config)\n",
    "    evaluation.evaluation()\n",
    "    evaluation.save_score()\n",
    "\n",
    "except Exception as e:\n",
    "   raise e"
   ]
  },
  {
   "cell_type": "code",
   "execution_count": null,
   "id": "0b600cb7-4aaa-4374-ae71-cefe2aacb425",
   "metadata": {},
   "outputs": [],
   "source": []
  },
  {
   "cell_type": "code",
   "execution_count": null,
   "id": "484aaaa8-4e80-4f96-9763-463979d1a037",
   "metadata": {},
   "outputs": [],
   "source": []
  }
 ],
 "metadata": {
  "kernelspec": {
   "display_name": "Python 3 (ipykernel)",
   "language": "python",
   "name": "python3"
  },
  "language_info": {
   "codemirror_mode": {
    "name": "ipython",
    "version": 3
   },
   "file_extension": ".py",
   "mimetype": "text/x-python",
   "name": "python",
   "nbconvert_exporter": "python",
   "pygments_lexer": "ipython3",
   "version": "3.11.6"
  }
 },
 "nbformat": 4,
 "nbformat_minor": 5
}
